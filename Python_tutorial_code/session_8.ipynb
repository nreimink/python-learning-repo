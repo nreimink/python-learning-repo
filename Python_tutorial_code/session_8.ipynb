{
 "cells": [
  {
   "cell_type": "code",
   "execution_count": 6,
   "metadata": {},
   "outputs": [
    {
     "name": "stdout",
     "output_type": "stream",
     "text": [
      "Hi\n",
      "I'm Nick\n"
     ]
    }
   ],
   "source": [
    "def fn(param_1):\n",
    "    x = 1\n",
    "    print(param_1)\n",
    "\n",
    "fn('Hi')\n",
    "fn(\"I'm Nick\")\n",
    "\n",
    "#error as variable only exists inside the function\n",
    "#print(param_1)"
   ]
  },
  {
   "cell_type": "code",
   "execution_count": 10,
   "metadata": {},
   "outputs": [
    {
     "name": "stdout",
     "output_type": "stream",
     "text": [
      "5\n",
      "10\n",
      "The sum of 5 and 10 is 15.\n",
      "13\n",
      "9\n",
      "The sum of 13 and 9 is 22.\n"
     ]
    }
   ],
   "source": [
    "def fxy(x=13, y=9):\n",
    "    print(x)\n",
    "    print(y)\n",
    "    print(f'The sum of {x} and {y} is {x + y}.')\n",
    "\n",
    "#doesn't have to be in order but if not, you have to define\n",
    "fxy(5, 10)\n",
    "\n",
    "#if defaults are set the function works with them.\n",
    "#can be overwritten in the function callback (as above)\n",
    "fxy()"
   ]
  },
  {
   "cell_type": "code",
   "execution_count": 15,
   "metadata": {},
   "outputs": [
    {
     "name": "stdout",
     "output_type": "stream",
     "text": [
      "29.5\n"
     ]
    }
   ],
   "source": [
    "#take 2 numbers and divde the largest by the smallest\n",
    "def div(a, b):\n",
    "    c = max(a, b)\n",
    "    d = min(a, b)\n",
    "    print(c / d)\n",
    "\n",
    "div(2, 59)"
   ]
  },
  {
   "cell_type": "code",
   "execution_count": 16,
   "metadata": {},
   "outputs": [
    {
     "name": "stdout",
     "output_type": "stream",
     "text": [
      "2.0\n"
     ]
    }
   ],
   "source": [
    "def div_xy(x, y):\n",
    "    if x >= y:\n",
    "        z = x / y\n",
    "    else:\n",
    "        z = y / x\n",
    "    return z\n",
    " \n",
    " \n",
    "answer = div_xy(y=10, x=5)\n",
    " \n",
    "print(answer)"
   ]
  },
  {
   "cell_type": "code",
   "execution_count": 18,
   "metadata": {},
   "outputs": [
    {
     "name": "stdout",
     "output_type": "stream",
     "text": [
      "2100\n"
     ]
    }
   ],
   "source": [
    "def sum_prod(num_1, num_2):\n",
    "    sum_12 = num_1 + num_2\n",
    "    prod_12 = num_1 * num_2\n",
    "    return sum_12, prod_12\n",
    "\n",
    "sum_30_70, prod_30_70 = sum_prod(30, 70)\n",
    "\n",
    "print(prod_30_70)\n",
    "\n"
   ]
  },
  {
   "cell_type": "code",
   "execution_count": 19,
   "metadata": {},
   "outputs": [
    {
     "name": "stdout",
     "output_type": "stream",
     "text": [
      "2100\n"
     ]
    }
   ],
   "source": [
    "def sum_prod(num1, num2):\n",
    "    sum_12 = num1 + num2\n",
    "    prod_12 = num1 * num2\n",
    " \n",
    "    return sum_12, prod_12\n",
    " \n",
    "answer = sum_prod(30, 70)\n",
    " \n",
    "print(answer[1])"
   ]
  },
  {
   "cell_type": "code",
   "execution_count": 23,
   "metadata": {},
   "outputs": [
    {
     "name": "stdout",
     "output_type": "stream",
     "text": [
      "(2.0, 5)\n"
     ]
    }
   ],
   "source": [
    "def sp(a, b):\n",
    "    c = max(a, b)\n",
    "    d = min(a, b)\n",
    "    divsp = c / d\n",
    "    subsp = c - d\n",
    "    return divsp, subsp\n",
    "\n",
    "answer = sp(5, 10)\n",
    "\n",
    "print(answer)"
   ]
  },
  {
   "cell_type": "code",
   "execution_count": 24,
   "metadata": {},
   "outputs": [
    {
     "name": "stdout",
     "output_type": "stream",
     "text": [
      "2.0\n",
      "5\n"
     ]
    }
   ],
   "source": [
    "def minus_div(x, y):\n",
    "    if x >= y:\n",
    "        big = x\n",
    "        small = y\n",
    "    else:\n",
    "        big = y\n",
    "        small = x\n",
    "    return big / small, big - small\n",
    " \n",
    "x_div_y, x_minus_y = minus_div(5, 10)\n",
    " \n",
    "print(x_div_y)\n",
    "print(x_minus_y)"
   ]
  },
  {
   "cell_type": "code",
   "execution_count": 25,
   "metadata": {},
   "outputs": [],
   "source": [
    "import math\n",
    "    "
   ]
  },
  {
   "cell_type": "code",
   "execution_count": 30,
   "metadata": {},
   "outputs": [
    {
     "data": {
      "text/plain": [
       "(256, 4.0)"
      ]
     },
     "execution_count": 30,
     "metadata": {},
     "output_type": "execute_result"
    }
   ],
   "source": [
    "# In this cell, first, import the 'math' module.\n",
    "# Next, write a function that squares a number (hint: you can simply uses x*x),\n",
    "# Now write a function that uses math.sqrt() to find the square root of a number\n",
    "# (hint: https://docs.python.org/3/library/math.html#math.sqrt)\n",
    "# Then, write a funciton that performs both of these functions and returns both answers,\n",
    "# Finally, call the function getting two variables as your answer, and print them.\n",
    "\n",
    "def sm(x):\n",
    "    sq_x = x**2\n",
    "    sqr_x = math.sqrt(x)\n",
    "    return sq_x, sqr_x\n",
    "\n",
    "sm(16)"
   ]
  },
  {
   "cell_type": "code",
   "execution_count": 31,
   "metadata": {},
   "outputs": [
    {
     "name": "stdout",
     "output_type": "stream",
     "text": [
      "(81, 3.0)\n"
     ]
    }
   ],
   "source": [
    "def sq(x):\n",
    "    return x**2\n",
    " \n",
    "def root_fn(x):\n",
    "    return math.sqrt(x)\n",
    " \n",
    "def root_sqr_x(x):\n",
    "    return sq(x), root_fn(x)\n",
    " \n",
    "print(root_sqr_x(9))"
   ]
  },
  {
   "cell_type": "code",
   "execution_count": 1,
   "metadata": {},
   "outputs": [],
   "source": [
    "import pandas as pd"
   ]
  },
  {
   "cell_type": "code",
   "execution_count": 33,
   "metadata": {},
   "outputs": [],
   "source": [
    "df = pd.read_csv('https://raw.githubusercontent.com/data-to-insight/ERN-sessions/main/data/ChildCharacteristics.csv')\n",
    "\n"
   ]
  },
  {
   "cell_type": "code",
   "execution_count": 5,
   "metadata": {},
   "outputs": [
    {
     "data": {
      "text/html": [
       "<div>\n",
       "<style scoped>\n",
       "    .dataframe tbody tr th:only-of-type {\n",
       "        vertical-align: middle;\n",
       "    }\n",
       "\n",
       "    .dataframe tbody tr th {\n",
       "        vertical-align: top;\n",
       "    }\n",
       "\n",
       "    .dataframe thead th {\n",
       "        text-align: right;\n",
       "    }\n",
       "</style>\n",
       "<table border=\"1\" class=\"dataframe\">\n",
       "  <thead>\n",
       "    <tr style=\"text-align: right;\">\n",
       "      <th></th>\n",
       "      <th>PersonBirthDate</th>\n",
       "      <th>Age Bucket</th>\n",
       "    </tr>\n",
       "  </thead>\n",
       "  <tbody>\n",
       "    <tr>\n",
       "      <th>0</th>\n",
       "      <td>2019-12-06</td>\n",
       "      <td>over 10</td>\n",
       "    </tr>\n",
       "    <tr>\n",
       "      <th>1</th>\n",
       "      <td>2011-04-27</td>\n",
       "      <td>10 and under</td>\n",
       "    </tr>\n",
       "    <tr>\n",
       "      <th>2</th>\n",
       "      <td>2017-06-06</td>\n",
       "      <td>over 10</td>\n",
       "    </tr>\n",
       "    <tr>\n",
       "      <th>3</th>\n",
       "      <td>2014-10-03</td>\n",
       "      <td>over 10</td>\n",
       "    </tr>\n",
       "    <tr>\n",
       "      <th>4</th>\n",
       "      <td>2019-09-25</td>\n",
       "      <td>over 10</td>\n",
       "    </tr>\n",
       "    <tr>\n",
       "      <th>...</th>\n",
       "      <td>...</td>\n",
       "      <td>...</td>\n",
       "    </tr>\n",
       "    <tr>\n",
       "      <th>327</th>\n",
       "      <td>2010-07-07</td>\n",
       "      <td>10 and under</td>\n",
       "    </tr>\n",
       "    <tr>\n",
       "      <th>328</th>\n",
       "      <td>2018-08-14</td>\n",
       "      <td>over 10</td>\n",
       "    </tr>\n",
       "    <tr>\n",
       "      <th>329</th>\n",
       "      <td>2021-12-09</td>\n",
       "      <td>over 10</td>\n",
       "    </tr>\n",
       "    <tr>\n",
       "      <th>330</th>\n",
       "      <td>2013-07-23</td>\n",
       "      <td>over 10</td>\n",
       "    </tr>\n",
       "    <tr>\n",
       "      <th>331</th>\n",
       "      <td>2021-10-25</td>\n",
       "      <td>over 10</td>\n",
       "    </tr>\n",
       "  </tbody>\n",
       "</table>\n",
       "<p>332 rows × 2 columns</p>\n",
       "</div>"
      ],
      "text/plain": [
       "    PersonBirthDate    Age Bucket\n",
       "0        2019-12-06       over 10\n",
       "1        2011-04-27  10 and under\n",
       "2        2017-06-06       over 10\n",
       "3        2014-10-03       over 10\n",
       "4        2019-09-25       over 10\n",
       "..              ...           ...\n",
       "327      2010-07-07  10 and under\n",
       "328      2018-08-14       over 10\n",
       "329      2021-12-09       over 10\n",
       "330      2013-07-23       over 10\n",
       "331      2021-10-25       over 10\n",
       "\n",
       "[332 rows x 2 columns]"
      ]
     },
     "execution_count": 5,
     "metadata": {},
     "output_type": "execute_result"
    }
   ],
   "source": [
    "'''https://raw.githubusercontent.com/data-to-insight/ERN-sessions/main/data/ChildIdentifiers.csv'\n",
    "write a function that calculates ages based on the data, and returns a new column in age range buckets\n",
    "0-5, 6-11, 12-17, 18+\n",
    " \n",
    "convert that to a datetime\n",
    "find the difference between the datetime and today\n",
    "if else statements to put that difference in time in a bucket\n",
    "return as a string the appropriate buckets to a nerw column'''\n",
    "\n",
    "df = pd.read_csv('https://raw.githubusercontent.com/data-to-insight/ERN-sessions/main/data/ChildIdentifiers.csv')\n",
    "\n",
    "def dob_change(DOB):\n",
    "    date_dob = pd.to_datetime(DOB, format=\"%Y-%m-%d\")\n",
    "    today = pd.to_datetime('today')\n",
    "    if date_dob + pd.DateOffset(years=11) < today:\n",
    "        return '10 and under'\n",
    "    elif date_dob + pd.DateOffset(years=11) >= today:\n",
    "        return 'over 10'\n",
    "    else:\n",
    "        return 'no dob'\n",
    "\n",
    "df['Age Bucket'] = df['PersonBirthDate'].apply(dob_change)\n",
    "\n",
    "df[['PersonBirthDate', 'Age Bucket']]\n",
    "\n",
    "#failed attempt\n"
   ]
  },
  {
   "cell_type": "code",
   "execution_count": 3,
   "metadata": {},
   "outputs": [
    {
     "data": {
      "text/html": [
       "<div>\n",
       "<style scoped>\n",
       "    .dataframe tbody tr th:only-of-type {\n",
       "        vertical-align: middle;\n",
       "    }\n",
       "\n",
       "    .dataframe tbody tr th {\n",
       "        vertical-align: top;\n",
       "    }\n",
       "\n",
       "    .dataframe thead th {\n",
       "        text-align: right;\n",
       "    }\n",
       "</style>\n",
       "<table border=\"1\" class=\"dataframe\">\n",
       "  <thead>\n",
       "    <tr style=\"text-align: right;\">\n",
       "      <th></th>\n",
       "      <th>PersonBirthDate</th>\n",
       "      <th>Age Bucket</th>\n",
       "    </tr>\n",
       "  </thead>\n",
       "  <tbody>\n",
       "    <tr>\n",
       "      <th>0</th>\n",
       "      <td>2019-12-06</td>\n",
       "      <td>0-5 years</td>\n",
       "    </tr>\n",
       "    <tr>\n",
       "      <th>1</th>\n",
       "      <td>2011-04-27</td>\n",
       "      <td>12-17 years</td>\n",
       "    </tr>\n",
       "    <tr>\n",
       "      <th>2</th>\n",
       "      <td>2017-06-06</td>\n",
       "      <td>6-11 years</td>\n",
       "    </tr>\n",
       "    <tr>\n",
       "      <th>3</th>\n",
       "      <td>2014-10-03</td>\n",
       "      <td>6-11 years</td>\n",
       "    </tr>\n",
       "    <tr>\n",
       "      <th>4</th>\n",
       "      <td>2019-09-25</td>\n",
       "      <td>0-5 years</td>\n",
       "    </tr>\n",
       "    <tr>\n",
       "      <th>...</th>\n",
       "      <td>...</td>\n",
       "      <td>...</td>\n",
       "    </tr>\n",
       "    <tr>\n",
       "      <th>327</th>\n",
       "      <td>2010-07-07</td>\n",
       "      <td>12-17 years</td>\n",
       "    </tr>\n",
       "    <tr>\n",
       "      <th>328</th>\n",
       "      <td>2018-08-14</td>\n",
       "      <td>0-5 years</td>\n",
       "    </tr>\n",
       "    <tr>\n",
       "      <th>329</th>\n",
       "      <td>2021-12-09</td>\n",
       "      <td>0-5 years</td>\n",
       "    </tr>\n",
       "    <tr>\n",
       "      <th>330</th>\n",
       "      <td>2013-07-23</td>\n",
       "      <td>6-11 years</td>\n",
       "    </tr>\n",
       "    <tr>\n",
       "      <th>331</th>\n",
       "      <td>2021-10-25</td>\n",
       "      <td>0-5 years</td>\n",
       "    </tr>\n",
       "  </tbody>\n",
       "</table>\n",
       "<p>332 rows × 2 columns</p>\n",
       "</div>"
      ],
      "text/plain": [
       "    PersonBirthDate   Age Bucket\n",
       "0        2019-12-06    0-5 years\n",
       "1        2011-04-27  12-17 years\n",
       "2        2017-06-06   6-11 years\n",
       "3        2014-10-03   6-11 years\n",
       "4        2019-09-25    0-5 years\n",
       "..              ...          ...\n",
       "327      2010-07-07  12-17 years\n",
       "328      2018-08-14    0-5 years\n",
       "329      2021-12-09    0-5 years\n",
       "330      2013-07-23   6-11 years\n",
       "331      2021-10-25    0-5 years\n",
       "\n",
       "[332 rows x 2 columns]"
      ]
     },
     "execution_count": 3,
     "metadata": {},
     "output_type": "execute_result"
    }
   ],
   "source": [
    "df = pd.read_csv('https://raw.githubusercontent.com/data-to-insight/ERN-sessions/main/data/ChildIdentifiers.csv')\n",
    "\n",
    " \n",
    "\n",
    "def bucket_maker(date_code):\n",
    "\n",
    "    bday = pd.to_datetime(date_code, format=\"%Y-%m-%d\")\n",
    "\n",
    "    today = pd.to_datetime('today')\n",
    "\n",
    " \n",
    "\n",
    "    if bday + pd.DateOffset(years=6) > today:\n",
    "\n",
    "        return '0-5 years'\n",
    "\n",
    "    elif bday + pd.DateOffset(years=12) > today:\n",
    "\n",
    "        return '6-11 years'\n",
    "\n",
    "    elif bday + pd.DateOffset(years=18) > today:\n",
    "\n",
    "        return '12-17 years'\n",
    "\n",
    "    else:\n",
    "\n",
    "        return '18+'\n",
    "\n",
    "   \n",
    "\n",
    " \n",
    "\n",
    "df['Age Bucket'] = df['PersonBirthDate'].apply(bucket_maker)\n",
    "\n",
    " \n",
    "\n",
    "df[['PersonBirthDate', 'Age Bucket']]"
   ]
  }
 ],
 "metadata": {
  "kernelspec": {
   "display_name": "Python 3",
   "language": "python",
   "name": "python3"
  },
  "language_info": {
   "codemirror_mode": {
    "name": "ipython",
    "version": 3
   },
   "file_extension": ".py",
   "mimetype": "text/x-python",
   "name": "python",
   "nbconvert_exporter": "python",
   "pygments_lexer": "ipython3",
   "version": "3.10.13"
  }
 },
 "nbformat": 4,
 "nbformat_minor": 2
}
