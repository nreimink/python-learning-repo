{
 "cells": [
  {
   "cell_type": "code",
   "execution_count": 2,
   "metadata": {},
   "outputs": [
    {
     "name": "stdout",
     "output_type": "stream",
     "text": [
      "2\n",
      "4\n",
      "6\n",
      "8\n",
      "10\n",
      "12\n",
      "14\n",
      "16\n",
      "18\n",
      "20\n"
     ]
    }
   ],
   "source": [
    "numbers = list(range(1,11))\n",
    "\n",
    "#numbers\n",
    "\n",
    "for i in numbers:\n",
    "    i = i + i\n",
    "    print(i)"
   ]
  },
  {
   "cell_type": "code",
   "execution_count": 6,
   "metadata": {},
   "outputs": [
    {
     "name": "stdout",
     "output_type": "stream",
     "text": [
      "Hello, my name is Nick\n",
      "Hello, my name is Jon and I'm a Tory\n",
      "Hello, my name is Nick\n",
      "Hello, my name is Andrew\n",
      "Hello, my name is Dudley\n",
      "Hello, my name is Dan\n"
     ]
    }
   ],
   "source": [
    "# make a list of 5 names as strings\n",
    "\n",
    "names_list = ['Nick', 'Jon', 'Andrew', 'Dudley', 'Dan']\n",
    "\n",
    "# loop over that list of names and using an f string have it print out\n",
    "# somethign like \"Hello, my name is NAME\"\n",
    "\n",
    "for name in names_list:\n",
    "    if name == 'Jon':\n",
    "        print(f\"Hello, my name is {name} and I'm a Tory\")\n",
    "    else:\n",
    "        phrase = f'Hello, my name is {name}'\n",
    "    print(phrase)\n",
    "\n"
   ]
  },
  {
   "cell_type": "code",
   "execution_count": 14,
   "metadata": {},
   "outputs": [
    {
     "name": "stdout",
     "output_type": "stream",
     "text": [
      "{'key1': 2, 'key2': 3}\n"
     ]
    }
   ],
   "source": [
    "names_dict = {}\n",
    "\n",
    "dict_1 = {'key1':1,\n",
    "          'key2':2}\n",
    "\n",
    "dict_1.keys()\n",
    "\n",
    "dict_1.values()\n",
    "\n",
    "dict_1.items()\n",
    "\n",
    "for key, value in dict_1.items():\n",
    "    value += 1\n",
    "    dict_1[key] = value\n",
    "\n",
    "print(dict_1)"
   ]
  },
  {
   "cell_type": "code",
   "execution_count": 19,
   "metadata": {},
   "outputs": [
    {
     "name": "stdout",
     "output_type": "stream",
     "text": [
      "Hello my name is Nick and I am a Senior BI Manager.\n",
      "Hello my name is Andrew and I am a BI Manager.\n",
      "Hello my name is Jon and I am a BI Manager.\n",
      "Hello my name is Dudley and I am a SBA.\n",
      "Hello my name is Dan and I am a SBA.\n"
     ]
    },
    {
     "data": {
      "text/plain": [
       "{'Nick': 'Hello my name is Nick and I am a Senior BI Manager.',\n",
       " 'Andrew': 'Hello my name is Andrew and I am a BI Manager.',\n",
       " 'Jon': 'Hello my name is Jon and I am a BI Manager.',\n",
       " 'Dudley': 'Hello my name is Dudley and I am a SBA.',\n",
       " 'Dan': 'Hello my name is Dan and I am a SBA.'}"
      ]
     },
     "execution_count": 19,
     "metadata": {},
     "output_type": "execute_result"
    }
   ],
   "source": [
    "name_dict = {'Nick': 'Senior BI Manager',\n",
    "             'Andrew': 'BI Manager',\n",
    "             'Jon': 'BI Manager',\n",
    "             'Dudley': 'SBA',\n",
    "             'Dan': 'SBA'}\n",
    "\n",
    "name_phrase = {}\n",
    "\n",
    "for k, v in name_dict.items():\n",
    "    phrase = f'Hello my name is {k} and I am a {v}.'\n",
    "    print(phrase)\n",
    "    name_phrase[k] = phrase\n",
    "\n",
    "name_phrase"
   ]
  },
  {
   "cell_type": "code",
   "execution_count": 25,
   "metadata": {},
   "outputs": [
    {
     "name": "stdout",
     "output_type": "stream",
     "text": [
      "The current number is 2\n",
      "The current number is 4\n",
      "The current number is 6\n",
      "The current number is 8\n",
      "The current number is 10\n",
      "The current number is 12\n",
      "[2, 6, 10, 14, 18, 22, 4, 12, 20, 28, 36, 44, 6, 18, 30, 42, 54, 66, 8, 24, 40, 56, 72, 88, 10, 30, 50, 70, 90, 110, 12, 36, 60, 84, 108, 132]\n"
     ]
    }
   ],
   "source": [
    "evens = list(range(2,13,2))\n",
    "odds = list(range(1,13,2))\n",
    "\n",
    "multiply_list = []\n",
    "\n",
    "#for i in evens:\n",
    "#    print(f'The current number is {i}')\n",
    "#    for j in odds:\n",
    "#        print(i * j)\n",
    "\n",
    "for i in evens:\n",
    "    print(f'The current number is {i}')\n",
    "    for j in odds:\n",
    "        multiply_list.append(i*j)\n",
    "print(multiply_list)"
   ]
  },
  {
   "cell_type": "code",
   "execution_count": 28,
   "metadata": {},
   "outputs": [
    {
     "data": {
      "text/plain": [
       "['butter and ham',\n",
       " 'butter and cheese',\n",
       " 'butter and sardines',\n",
       " 'jam and ham',\n",
       " 'jam and cheese',\n",
       " 'jam and sardines',\n",
       " 'peanut butter and ham',\n",
       " 'peanut butter and cheese',\n",
       " 'peanut butter and sardines']"
      ]
     },
     "execution_count": 28,
     "metadata": {},
     "output_type": "execute_result"
    }
   ],
   "source": [
    "# using these two lists of sandwich ingredients, find (using for loops) all of the spread/topping combinations\n",
    "# append them to a new list of all the combos\n",
    "spreads = ['butter', 'jam', 'peanut butter']\n",
    "toppings = ['ham', 'cheese', 'sardines']\n",
    "\n",
    "sandwich = []\n",
    "\n",
    "for s in spreads:\n",
    "    for t in toppings:\n",
    "        sandwich.append(f'{s} and {t}')\n",
    "\n",
    "sandwich\n"
   ]
  },
  {
   "cell_type": "code",
   "execution_count": 32,
   "metadata": {},
   "outputs": [
    {
     "name": "stdout",
     "output_type": "stream",
     "text": [
      "59 is not divisible by 3 or 5\n"
     ]
    }
   ],
   "source": [
    "number = 59\n",
    "\n",
    "if (number % 3 == 0):\n",
    "    print(f'{number} is divisible by 3')\n",
    "elif (number % 5 == 0):\n",
    "    print(f'{number} is divisible by 5')\n",
    "else:\n",
    "    print(f'{number} is not divisible by 3 or 5')"
   ]
  },
  {
   "cell_type": "code",
   "execution_count": 1,
   "metadata": {},
   "outputs": [
    {
     "name": "stdout",
     "output_type": "stream",
     "text": [
      "1\n",
      "2\n",
      "fizz\n",
      "4\n",
      "bang\n",
      "fizz\n",
      "7\n",
      "8\n",
      "fizz\n",
      "bang\n",
      "11\n",
      "fizz\n",
      "13\n",
      "14\n",
      "fizzbang\n",
      "16\n",
      "17\n",
      "fizz\n",
      "19\n",
      "bang\n",
      "fizz\n",
      "22\n",
      "23\n",
      "fizz\n",
      "bang\n",
      "26\n",
      "fizz\n",
      "28\n",
      "29\n",
      "fizzbang\n",
      "31\n",
      "32\n",
      "fizz\n",
      "34\n",
      "bang\n",
      "fizz\n",
      "37\n",
      "38\n",
      "fizz\n",
      "bang\n",
      "41\n",
      "fizz\n",
      "43\n",
      "44\n",
      "fizzbang\n",
      "46\n",
      "47\n",
      "fizz\n",
      "49\n",
      "bang\n",
      "fizz\n",
      "52\n",
      "53\n",
      "fizz\n",
      "bang\n",
      "56\n",
      "fizz\n",
      "58\n",
      "59\n",
      "fizzbang\n",
      "61\n",
      "62\n",
      "fizz\n",
      "64\n",
      "bang\n",
      "fizz\n",
      "67\n",
      "68\n",
      "fizz\n",
      "bang\n",
      "71\n",
      "fizz\n",
      "73\n",
      "74\n",
      "fizzbang\n",
      "76\n",
      "77\n",
      "fizz\n",
      "79\n",
      "bang\n",
      "fizz\n",
      "82\n",
      "83\n",
      "fizz\n",
      "bang\n",
      "86\n",
      "fizz\n",
      "88\n",
      "89\n",
      "fizzbang\n",
      "91\n",
      "92\n",
      "fizz\n",
      "94\n",
      "bang\n",
      "fizz\n",
      "97\n",
      "98\n",
      "fizz\n",
      "bang\n"
     ]
    }
   ],
   "source": [
    "# fizzbang\n",
    "# take all the numbers form 1-100,\n",
    "# print them, BUT if the number is divisible by 3, print fizz,\n",
    "# if it's divisible by 5 print bang\n",
    "# BUT if it's divisible by 3 & 5 print fizzbang\n",
    "\n",
    "num_list = list(range(1,101))\n",
    "\n",
    "for i in num_list:\n",
    "    if (i % 3 == 0) and (i % 5 == 0):\n",
    "        print('fizzbang')\n",
    "    elif (i % 3 == 0):\n",
    "        print('fizz')\n",
    "    elif (i % 5 == 0):\n",
    "        print('bang')\n",
    "    else:\n",
    "        print(i)\n",
    "    "
   ]
  }
 ],
 "metadata": {
  "kernelspec": {
   "display_name": "Python 3",
   "language": "python",
   "name": "python3"
  },
  "language_info": {
   "codemirror_mode": {
    "name": "ipython",
    "version": 3
   },
   "file_extension": ".py",
   "mimetype": "text/x-python",
   "name": "python",
   "nbconvert_exporter": "python",
   "pygments_lexer": "ipython3",
   "version": "3.10.13"
  }
 },
 "nbformat": 4,
 "nbformat_minor": 2
}
