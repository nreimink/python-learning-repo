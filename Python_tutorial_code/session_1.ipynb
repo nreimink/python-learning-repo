{
 "cells": [
  {
   "cell_type": "code",
   "execution_count": 3,
   "metadata": {},
   "outputs": [
    {
     "name": "stdout",
     "output_type": "stream",
     "text": [
      "<class 'int'>\n",
      "<class 'float'>\n",
      "<class 'str'>\n",
      "5\n"
     ]
    }
   ],
   "source": [
    "num_1 = 5 # integer - int\n",
    "num_2 = 5.0 # float - float\n",
    "\n",
    "num_3 = \"5\" # string - str\n",
    "\n",
    "\n",
    "print(type(num_1))\n",
    "print(type(num_2))\n",
    "print(type(num_3))\n",
    "print(str(num_1))"
   ]
  },
  {
   "cell_type": "code",
   "execution_count": 2,
   "metadata": {},
   "outputs": [
    {
     "name": "stdout",
     "output_type": "stream",
     "text": [
      "15\n",
      "<class 'int'>\n"
     ]
    }
   ],
   "source": [
    "x = 5\n",
    "y = 10\n",
    "\n",
    "z = x + y\n",
    "\n",
    "print(z)\n",
    "print(type(z))"
   ]
  },
  {
   "cell_type": "code",
   "execution_count": 14,
   "metadata": {},
   "outputs": [
    {
     "name": "stdout",
     "output_type": "stream",
     "text": [
      "12\n",
      "12.56\n"
     ]
    }
   ],
   "source": [
    "'''In this cell, initialise two numeric variables and find their product\n",
    "using the * operator for multiplication and assign this to a new variable.\n",
    "Print the new variable'''\n",
    "\n",
    "x = 2\n",
    "y = 6\n",
    "\n",
    "z = x * y\n",
    "\n",
    "print(z)\n",
    "\n",
    "'''The radius of a circle is 2, assume that Pi is 3.14. Assign both of these\n",
    "to suitably named variables and find the area of the circle.\n",
    "We can find the area of a circle by finding the product of Pi with the radius squared.\n",
    "You probably don't know how to square a number in Python yet, so use Google to work it out!'''\n",
    "\n",
    "r = 2\n",
    "pi = 3.14\n",
    "\n",
    "a = pi * (r ** 2)\n",
    "\n",
    "print(a)"
   ]
  },
  {
   "cell_type": "code",
   "execution_count": 2,
   "metadata": {},
   "outputs": [
    {
     "name": "stdout",
     "output_type": "stream",
     "text": [
      "Nick likes gaming\n",
      "My name is Nick, and I like gaming.\n"
     ]
    }
   ],
   "source": [
    "name = \"Nick\"\n",
    "hobby = \"gaming\"\n",
    "\n",
    "phrase_1 = name + \" likes \" + hobby\n",
    "\n",
    "print(phrase_1)\n",
    "\n",
    "# use curly brackets to name the variable in the string\n",
    "phrase_2 = f\"My name is {name}, and I like {hobby}.\"\n",
    "\n",
    "print(phrase_2)"
   ]
  },
  {
   "cell_type": "code",
   "execution_count": 21,
   "metadata": {},
   "outputs": [
    {
     "name": "stdout",
     "output_type": "stream",
     "text": [
      "Nick is a Senior Business Intelligence Manager\n",
      "Hi6\n"
     ]
    }
   ],
   "source": [
    "'''\n",
    "In this cell, initialise two appropriately named variables, one for your name and one for your job title.\n",
    "Next, combine them in an f string, assigned to a different, appropriately named variable.\n",
    "Finally, print the f string.\n",
    "'''\n",
    "name = \"Nick\"\n",
    "job = \"Senior Business Intelligence Manager\"\n",
    "\n",
    "role = f\"{name} is a {job}\"\n",
    "\n",
    "print(role)\n",
    "'''\n",
    "Make a variable for a string and one for a number,\n",
    "Try and add them (not inside an f string) and see what happens\n",
    "'''\n",
    "a = \"Hi\"\n",
    "b = 6\n",
    "c = a + str(b)\n",
    "\n",
    "print(c)\n"
   ]
  },
  {
   "cell_type": "code",
   "execution_count": 1,
   "metadata": {},
   "outputs": [
    {
     "name": "stdout",
     "output_type": "stream",
     "text": [
      "456\n",
      "987654321\n"
     ]
    }
   ],
   "source": [
    "num_string = \"123456789\"\n",
    "\n",
    "sub_string = num_string[1]\n",
    "#starts at 0 in []\n",
    "#start is inclusive, stop is exclusive\n",
    "sub_string = num_string[3:-3]\n",
    "\n",
    "#step uses [start:stop:step]\n",
    "\n",
    "sub_string_reverse = num_string[-1::-1]\n",
    "\n",
    "print(sub_string)\n",
    "print(sub_string_reverse)"
   ]
  },
  {
   "cell_type": "code",
   "execution_count": 35,
   "metadata": {},
   "outputs": [
    {
     "name": "stdout",
     "output_type": "stream",
     "text": [
      "child_data\n"
     ]
    }
   ],
   "source": [
    "filename = \"child_data.csv\"\n",
    "\n",
    "filename = filename[:-4]\n",
    "\n",
    "print(filename)"
   ]
  }
 ],
 "metadata": {
  "kernelspec": {
   "display_name": "Python 3",
   "language": "python",
   "name": "python3"
  },
  "language_info": {
   "codemirror_mode": {
    "name": "ipython",
    "version": 3
   },
   "file_extension": ".py",
   "mimetype": "text/x-python",
   "name": "python",
   "nbconvert_exporter": "python",
   "pygments_lexer": "ipython3",
   "version": "3.10.13"
  }
 },
 "nbformat": 4,
 "nbformat_minor": 2
}
