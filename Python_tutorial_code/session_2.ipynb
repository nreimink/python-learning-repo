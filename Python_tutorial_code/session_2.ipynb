{
 "cells": [
  {
   "cell_type": "code",
   "execution_count": 5,
   "metadata": {},
   "outputs": [
    {
     "name": "stdout",
     "output_type": "stream",
     "text": [
      "3\n",
      "<class 'int'>\n",
      "I have a number: 3.\n",
      "h\n",
      "have a number:\n",
      "Ihv  ubr .\n",
      ".3 :rebmun a evah I\n"
     ]
    }
   ],
   "source": [
    "num_1 = 3 # int\n",
    "num_2 = \"5\" # str\n",
    "num_3 = 4.0 # floats\n",
    "\n",
    "# str()\n",
    "# int()\n",
    "# float()\n",
    "\n",
    "type_num_1 = type(num_1)\n",
    "print(num_1)\n",
    "print(type_num_1)\n",
    "\n",
    "#formatted string\n",
    "string_1 = f'I have a number: {num_1}.'\n",
    "\n",
    "#normal concatenated string\n",
    "string_2 = 'I have a number: ' + str(num_1) + '.'\n",
    "\n",
    "print(string_1)\n",
    "\n",
    "substring_1 = string_1[2]\n",
    "print(substring_1)\n",
    "\n",
    "# [ start : stop : step ]\n",
    "substring_2 = string_1[2:-3]\n",
    "print(substring_2)\n",
    "\n",
    "substring_3 = string_1[::2]\n",
    "print(substring_3)\n",
    "\n",
    "reverse_string = string_1[-1::-1]\n",
    "print(reverse_string)"
   ]
  },
  {
   "cell_type": "code",
   "execution_count": 10,
   "metadata": {},
   "outputs": [
    {
     "name": "stdout",
     "output_type": "stream",
     "text": [
      "<class 'list'>\n",
      "n\n"
     ]
    }
   ],
   "source": [
    "list_1 = []\n",
    "\n",
    "print(type(list_1))\n",
    "\n",
    "colours = [\"red\", \"blue\", \"green\", num_1, [num_2, num_3]]\n",
    "print(colours[-3][-1])"
   ]
  },
  {
   "cell_type": "code",
   "execution_count": 20,
   "metadata": {},
   "outputs": [
    {
     "name": "stdout",
     "output_type": "stream",
     "text": [
      "<class 'list'>\n",
      "green\n",
      "['red', 'blue', 'green', 'purple']\n",
      "['red', 'blue', 'green', 'purple', ['turquoise', 'teal']]\n",
      "['red', 'blue', 'green', 'purple', ['turquoise', 'teal'], 'turquoise', 'teal']\n",
      "['red', 'blue', 'green', 'purple', ['turquoise', 'teal'], 'turquoise', 'teal', 'g', 'r', 'e', 'y']\n",
      "['red', 'blue', 'green', 'purple', ['turquoise', 'teal'], 'turquoise', 'teal', 'g', 'r', 'e', 'y', 'purple', 'purple', 'purple']\n",
      "['red', 'blue', 'green', ['turquoise', 'teal'], 'turquoise', 'teal', 'g', 'r', 'e', 'y', 'purple', 'purple', 'purple']\n"
     ]
    }
   ],
   "source": [
    "list_1 = []\n",
    "\n",
    "print(type(list_1))\n",
    "\n",
    "colours = [\"red\", \"blue\", \"green\"]\n",
    "print(colours[-1])\n",
    "\n",
    "#this is a 'method'\n",
    "\n",
    "colours.append(\"purple\")\n",
    "print(colours)\n",
    "#append will add each element as 1 type\n",
    "extra_colours = [\"turquoise\", \"teal\"]\n",
    "colours.append(extra_colours)\n",
    "print(colours)\n",
    "\n",
    "#extend will add each part as a separate type\n",
    "colours.extend(extra_colours)\n",
    "print(colours)\n",
    "\n",
    "colours.extend(\"grey\")\n",
    "print(colours)\n",
    "\n",
    "#remove to take out parts of a list\n",
    "colours.extend([\"purple\", \"purple\", \"purple\"])\n",
    "print(colours)\n",
    "\n",
    "colours.remove(\"purple\")\n",
    "print(colours)\n"
   ]
  },
  {
   "cell_type": "code",
   "execution_count": 23,
   "metadata": {},
   "outputs": [
    {
     "name": "stdout",
     "output_type": "stream",
     "text": [
      "['apple', 'orange', 'pear']\n",
      "['apple', 'orange', 'pear', 'grape']\n",
      "['apple', 'orange', 'pear', 'grape', 'cheese', 'banana']\n",
      "['apple', 'orange', 'pear', 'grape', 'banana']\n"
     ]
    }
   ],
   "source": [
    "# In this cell, make a list of a few foods and print it.\n",
    "\n",
    "food_1 = [\"apple\", \"orange\", \"pear\"]\n",
    "print(food_1)\n",
    "# Then append the list with another food and print it.\n",
    "\n",
    "food_1.append(\"grape\")\n",
    "print(food_1)\n",
    "# Next, make another list of foods, and use the extend method to \n",
    "# add those extra foods as individual elements of the list, and print it.\n",
    "\n",
    "food_2= [\"cheese\", \"banana\"]\n",
    "\n",
    "food_1.extend(food_2)\n",
    "print(food_1)\n",
    "# Finally, remove and element from the list and print the final list.\n",
    "# Remember to always use a suitable name for your lists!\n",
    "\n",
    "food_1.remove(\"cheese\")\n",
    "print(food_1)"
   ]
  },
  {
   "cell_type": "code",
   "execution_count": 32,
   "metadata": {},
   "outputs": [
    {
     "name": "stdout",
     "output_type": "stream",
     "text": [
      "[2, 5, 7, 3, 1, 6, 4, 9]\n",
      "[1, 2, 3, 4, 5, 6, 7, 9]\n",
      "[9, 7, 6, 5, 4, 3, 2, 1]\n",
      "[9, 7, 6, 5, 4, 3, 2, 1]\n",
      "[1, 2, 3, 4, 5, 6, 7, 9]\n",
      "['apple', 'banana', 'grape', 'orange', 'pear']\n"
     ]
    }
   ],
   "source": [
    "numbers = [2,5,7,3,1,6,4,9]\n",
    "\n",
    "print(numbers)\n",
    "\n",
    "numbers.sort()\n",
    "print(numbers)\n",
    "\n",
    "numbers.sort(reverse=True)\n",
    "print(numbers)\n",
    "\n",
    "#a function does not happen in place so is not stored\n",
    "sorted(numbers)\n",
    "print(numbers)\n",
    "\n",
    "#a new variable needs to be made\n",
    "sorted_numbers = sorted(numbers)\n",
    "print(sorted_numbers)\n",
    "\n",
    "food_1.sort()\n",
    "print(food_1)"
   ]
  },
  {
   "cell_type": "code",
   "execution_count": 44,
   "metadata": {},
   "outputs": [
    {
     "name": "stdout",
     "output_type": "stream",
     "text": [
      "{'Name': 'Nick', 'Age': 44, 'Pets': 0, 'Food': ['apple', 'banana', 'grape', 'orange', 'pear'], 'Sport': 'cycling'}\n",
      "grape\n"
     ]
    }
   ],
   "source": [
    "#dictionaries- GO!\n",
    "#dict_1 = {key:value, key:value...} keys are immutable, values can be variables\n",
    "nick = {\"Name\": \"Nick\",\n",
    "        \"Age\": 44,\n",
    "        \"Pets\": 0,\n",
    "        \"Food\": food_1,\n",
    "        \"Sport\": \"cycling\"}\n",
    "\n",
    "print(nick)\n",
    "\n",
    "print(nick[\"Food\"][-3])\n",
    "\n"
   ]
  },
  {
   "cell_type": "code",
   "execution_count": 58,
   "metadata": {},
   "outputs": [
    {
     "name": "stdout",
     "output_type": "stream",
     "text": [
      "purple\n",
      "purple\n",
      "dict_keys(['Will', 'Andy', 'Annie'])\n",
      "dict_values(['purple', ['purple', 'teal'], {'Monday': 'Red', 'Rest of the week': ['red', 'blue', 'green', ['turquoise', 'teal'], 'turquoise', 'teal', 'g', 'r', 'e', 'y', 'purple', 'purple', 'purple']}])\n",
      "dict_items([('Will', 'purple'), ('Andy', ['purple', 'teal']), ('Annie', {'Monday': 'Red', 'Rest of the week': ['red', 'blue', 'green', ['turquoise', 'teal'], 'turquoise', 'teal', 'g', 'r', 'e', 'y', 'purple', 'purple', 'purple']})])\n",
      "yellow\n",
      "{'Will': 'purple', 'Andy': ['purple', 'teal'], 'Annie': 'gold', 'Naiomi': 'yellow'}\n",
      "False\n",
      "True\n"
     ]
    }
   ],
   "source": [
    "fav_cols = {\"Will\": \"purple\",\n",
    "            \"Andy\": [\"purple\", \"teal\"],\n",
    "            \"Annie\": {\"Monday\": \"Red\",\n",
    "                      \"Rest of the week\": colours}\n",
    "            }\n",
    "\n",
    "print(fav_cols[\"Andy\"][0])\n",
    "\n",
    "print(fav_cols[\"Annie\"][\"Rest of the week\"][-1])\n",
    "\n",
    "print(fav_cols.keys())\n",
    "\n",
    "print(fav_cols.values())\n",
    "\n",
    "#prints out as a tuple\n",
    "print(fav_cols.items())\n",
    "\n",
    "#adding entries to dictionary\n",
    "\n",
    "fav_cols[\"Naiomi\"] = \"yellow\"\n",
    "print(fav_cols[\"Naiomi\"])\n",
    "\n",
    "#changing entries to dictionaries\n",
    "fav_cols[\"Annie\"] = \"gold\"\n",
    "print(fav_cols)\n",
    "\n",
    "print(\"Mo\" in fav_cols)\n",
    "print(\"Annie\" in fav_cols)"
   ]
  },
  {
   "cell_type": "code",
   "execution_count": 62,
   "metadata": {},
   "outputs": [
    {
     "name": "stdout",
     "output_type": "stream",
     "text": [
      "dict_keys(['Nick', 'Andrew', 'Jon'])\n",
      "dict_values(['Senior BI Manager', 'BI Manager', ['BI Manager', 'SF Analyst']])\n",
      "dict_items([('Nick', 'Senior BI Manager'), ('Andrew', 'BI Manager'), ('Jon', ['BI Manager', 'SF Analyst'])])\n",
      "{'Nick': 'Senior BI Manager', 'Andrew': 'BI Manager', 'Jon': 'BI Manager', 'Kwame': 'IYSS Manager'}\n"
     ]
    }
   ],
   "source": [
    "# MAke a dict of names and job titles, have about 3 entries\n",
    "# Make sure one person has multiple jobs using a dict as their value\n",
    "# print the .keys, .values(), and .items()\n",
    "# add an entry using the name[] syntax\n",
    "# overwrite an entry using the same syntax\n",
    "\n",
    "jobs = {\"Nick\": \"Senior BI Manager\",\n",
    "        \"Andrew\": \"BI Manager\",\n",
    "        \"Jon\": [\"BI Manager\", \"SF Analyst\"]\n",
    "}\n",
    "\n",
    "print(jobs.keys())\n",
    "print(jobs.values())\n",
    "print(jobs.items())\n",
    "\n",
    "jobs[\"Kwame\"] = \"IYSS Manager\"\n",
    "\n",
    "jobs[\"Jon\"] = \"BI Manager\"\n",
    "\n",
    "print(jobs)"
   ]
  },
  {
   "cell_type": "code",
   "execution_count": 70,
   "metadata": {},
   "outputs": [
    {
     "name": "stdout",
     "output_type": "stream",
     "text": [
      "['william', 'gmail.com']\n",
      "william\n",
      "('william', '@', 'gmail.com')\n",
      "gmail\n"
     ]
    }
   ],
   "source": [
    "email = \"william@gmail.com\"\n",
    "name = email.split('@')\n",
    "print(name)\n",
    "print(name[0])\n",
    "\n",
    "name = email.partition(\"@\")\n",
    "print(name)\n",
    "\n",
    "name = name[2].partition(\".\")[0]\n",
    "print(name)"
   ]
  }
 ],
 "metadata": {
  "kernelspec": {
   "display_name": "Python 3",
   "language": "python",
   "name": "python3"
  },
  "language_info": {
   "codemirror_mode": {
    "name": "ipython",
    "version": 3
   },
   "file_extension": ".py",
   "mimetype": "text/x-python",
   "name": "python",
   "nbconvert_exporter": "python",
   "pygments_lexer": "ipython3",
   "version": "3.10.13"
  }
 },
 "nbformat": 4,
 "nbformat_minor": 2
}
